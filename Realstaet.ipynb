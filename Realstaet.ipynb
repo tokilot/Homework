{
 "cells": [
  {
   "cell_type": "code",
   "execution_count": 5,
   "metadata": {
    "collapsed": true
   },
   "outputs": [],
   "source": [
    "import math\n",
    "import os\n",
    "import pandas\n",
    "import scipy.stats as st\n",
    "import numpy as np\n",
    "import matplotlib.pyplot as plt"
   ]
  },
  {
   "cell_type": "code",
   "execution_count": 6,
   "outputs": [],
   "source": [
    "#导入csv文件\n",
    "filename = \"beijinghousing_2018.csv\"\n",
    "pf = pandas.read_csv(filename)\n",
    "\n",
    "#辅助函数\n",
    "dirname = \"picture\"\n",
    "\n",
    "\n",
    "def draw(x, y, var):\n",
    "    \"\"\"绘制真实数据的散点图和模型曲线\"\"\"\n",
    "    if not os.path.exists(dirname):\n",
    "        os.mkdir(dirname)\n",
    "    y_hat = var[0] * x + var[1]\n",
    "    plt.clf()  #重置画布\n",
    "    plt.xlabel(x.name)\n",
    "    plt.ylabel(\"TotalPrice\")\n",
    "    title = \"TotalPrice\" + \"--\" + x.name + \" Linear Model\"\n",
    "    plt.title(title)\n",
    "    plt.scatter(x, y)\n",
    "    plt.plot(x, y_hat)\n",
    "    plt.savefig(dirname + \"\\\\\" + title + '.png', bbox_inches='tight')\n",
    "\n",
    "\n",
    "def floor_deal(raw):\n",
    "    tab, num = raw.split(\" \")\n",
    "    num = int(num)\n",
    "    return num"
   ],
   "metadata": {
    "collapsed": false,
    "pycharm": {
     "name": "#%%\n"
    }
   }
  },
  {
   "cell_type": "code",
   "execution_count": 7,
   "outputs": [
    {
     "name": "stdout",
     "output_type": "stream",
     "text": [
      "Index(['tradeTime', 'DOM', 'followers', 'totalPrice', 'price', 'square',\n",
      "       'livingRoom', 'drawingRoom', 'kitchen', 'bathRoom', 'floor',\n",
      "       'buildingType', 'constructionTime', 'renovationCondition',\n",
      "       'buildingStructure', 'ladderRatio', 'elevator', 'fiveYearsProperty',\n",
      "       'subway', 'district', 'communityAverage', '数据集类型'],\n",
      "      dtype='object')\n",
      "['1' '3' '2' '22' '24' '19' '20' '28' '26']\n"
     ]
    }
   ],
   "source": [
    "#数据处理，将数据分成训练组和测试组\n",
    "print(pf.columns)\n",
    "pf[\"tradeTime\"] = pf[\"tradeTime\"].map(lambda x: x[7:])\n",
    "pf[\"houseType\"] = pf[\"livingRoom\"] + pf[\"drawingRoom\"] + pf[\"kitchen\"] + pf[\"bathRoom\"]\n",
    "pf[\"floor\"] = pf[\"floor\"].map(lambda x: floor_deal(x))\n",
    "print(pf[\"tradeTime\"].unique())\n",
    "\n",
    "#划分数据用途\n",
    "pf_train = pf[pf[\"数据集类型\"] == \"训练\"]\n",
    "pf_test = pf[pf[\"数据集类型\"] == \"测试\"]"
   ],
   "metadata": {
    "collapsed": false,
    "pycharm": {
     "name": "#%%\n"
    }
   }
  },
  {
   "cell_type": "code",
   "execution_count": 8,
   "outputs": [],
   "source": [
    "#计算线性模型、检验和预测的类\n",
    "class LinearMod:\n",
    "    def __init__(self, x, y):\n",
    "        self.x_train = x\n",
    "        self.y_train = y\n",
    "\n",
    "    def model(self):\n",
    "        \"\"\"一元线性回归拟合，依次返回斜率，截距，r 值，p 值，标准误差\"\"\"\n",
    "        return st.linregress(self.x_train, self.y_train)\n",
    "\n",
    "    def r2(self):\n",
    "        \"\"\"计算模型的可决系数R方\"\"\"\n",
    "        return self.model()[2] ** 2\n",
    "\n",
    "    def t(self):\n",
    "        \"\"\"计算模型自相关系数，返回p值\"\"\"\n",
    "        return self.model()[3]\n",
    "\n",
    "    def rmse(self, x_test, y_test):\n",
    "        \"\"\"计算预测数据与真实情况的误差，返回均方根\"\"\"\n",
    "        y_hat = self.predict(x_test)\n",
    "        se = math.sqrt(((y_hat - y_test) ** 2).sum() / len(y_hat))\n",
    "        return se\n",
    "\n",
    "    def predict(self, x_test):\n",
    "        \"\"\"根据模型参数和新数据预测值\"\"\"\n",
    "        var = self.model()\n",
    "        y_hat = var[0] * x_test + var[1]\n",
    "        return y_hat\n"
   ],
   "metadata": {
    "collapsed": false,
    "pycharm": {
     "name": "#%%\n"
    }
   }
  },
  {
   "cell_type": "code",
   "execution_count": 13,
   "outputs": [
    {
     "name": "stdout",
     "output_type": "stream",
     "text": [
      "tradeTime\n",
      "DOM\n",
      "square\n",
      "houseType\n",
      "floor\n",
      "ladderRatio\n",
      "communityAverage\n"
     ]
    }
   ],
   "source": [
    "#计算所有变量的线性模型\n",
    "#待拟合的变量\n",
    "index_list = [\"tradeTime\", 'DOM', 'square', 'houseType', \"floor\", 'ladderRatio', 'communityAverage']\n",
    "#初始化y值\n",
    "y_train = pf_train[\"totalPrice\"]\n",
    "y_test = pf_test[\"totalPrice\"]\n",
    "results = []\n",
    "\n",
    "for index in index_list:\n",
    "    print(index)\n",
    "    x_train = pf_train[index]\n",
    "    x_test = pf_test[index]\n",
    "    x_train = x_train.astype(np.float32)\n",
    "    x_test = x_test.astype(np.float32)\n",
    "\n",
    "    test = LinearMod(x_train, y_train)\n",
    "    var = test.model()\n",
    "\n",
    "    draw(x_train, y_train, var)\n",
    "    result = [index,var[0],var[1]]\n",
    "    result = result + [test.r2(), test.t(), test.rmse(x_test, y_test)]+list(test.predict(x_test))\n",
    "    results.append(result)"
   ],
   "metadata": {
    "collapsed": false,
    "pycharm": {
     "name": "#%%\n"
    }
   }
  },
  {
   "cell_type": "code",
   "execution_count": 14,
   "outputs": [],
   "source": [
    "#将所有变量计算线性模型后的数据写进表格\n",
    "import openpyxl\n",
    "\n",
    "wb = openpyxl.open(\"data.xlsx\")\n",
    "ws = wb.worksheets[0]\n",
    "ncol = len(results)\n",
    "nrow = len(results[0])\n",
    "for i in range(1, ncol + 1):\n",
    "    for j in range(1, nrow + 1):\n",
    "        ws.cell(j, i, results[i - 1][j - 1])\n",
    "wb.save(\"data.xlsx\")"
   ],
   "metadata": {
    "collapsed": false,
    "pycharm": {
     "name": "#%%\n"
    }
   }
  },
  {
   "cell_type": "code",
   "execution_count": null,
   "outputs": [],
   "source": [],
   "metadata": {
    "collapsed": false,
    "pycharm": {
     "name": "#%%\n"
    }
   }
  }
 ],
 "metadata": {
  "kernelspec": {
   "display_name": "Python 3",
   "language": "python",
   "name": "python3"
  },
  "language_info": {
   "codemirror_mode": {
    "name": "ipython",
    "version": 2
   },
   "file_extension": ".py",
   "mimetype": "text/x-python",
   "name": "python",
   "nbconvert_exporter": "python",
   "pygments_lexer": "ipython2",
   "version": "2.7.6"
  }
 },
 "nbformat": 4,
 "nbformat_minor": 0
}